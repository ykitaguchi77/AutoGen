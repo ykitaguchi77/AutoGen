{
  "cells": [
    {
      "cell_type": "markdown",
      "metadata": {
        "id": "view-in-github",
        "colab_type": "text"
      },
      "source": [
        "<a href=\"https://colab.research.google.com/github/ykitaguchi77/AutoGen/blob/main/Autogen%E3%82%B5%E3%83%B3%E3%83%97%E3%83%AB_%E3%82%B0%E3%83%AB%E3%83%BC%E3%83%97%E3%83%81%E3%83%A3%E3%83%83%E3%83%88%EF%BC%88%E3%83%A1%E3%83%8B%E3%83%A5%E3%83%BC%E8%80%83%E6%A1%88%EF%BC%89.ipynb\" target=\"_parent\"><img src=\"https://colab.research.google.com/assets/colab-badge.svg\" alt=\"Open In Colab\"/></a>"
      ]
    },
    {
      "cell_type": "markdown",
      "source": [
        "# Autogenについて\n",
        "Microsoft Researchから登場したマルチエージェントによるLLMアプリケーションを実現するフレームワーク。役割を設定したエージェントを定義することで、エージェントがお互いに相談しながらタスクを実行できる。インターネットアクセスやコードの実行、ファンクションなども活用しながら高度な操作ができる。\n",
        "\n",
        "- 公式サイト  \n",
        "  https://microsoft.github.io/autogen/  \n",
        "- Github  \n",
        "  https://github.com/microsoft/autogen  \n",
        "- ブログ  \n",
        "  AutoGen: Enabling next-generation large language model applications  \n",
        "  https://www.microsoft.com/en-us/research/blog/autogen-enabling-next-generation-large-language-model-applications/  \n",
        "- arxivペーパー  \n",
        "  AutoGen: Enabling Next-Gen LLM Applications via Multi-Agent Conversation  \n",
        "  https://arxiv.org/abs/2308.08155  "
      ],
      "metadata": {
        "id": "hrtTi-dUIUyL"
      }
    },
    {
      "cell_type": "markdown",
      "source": [
        "## 注意\n",
        "- 実行には、OpenAIのAPIキーが必要。\n",
        "- 複雑な処理や高度な連携にはGPT-4のアクセスが必要。\n",
        "- コードの修正などが繰り返されるケースではAPIアクセスが多発しコストが嵩むので注意。\n",
        "- タスクによっては、エージェント間でコードやソースなどを共有する必要があり、大量の入力が発生するため、16Kや32Kに対応したモデルでないと動作しない（Rate Limitエラーにひっかかる）。\n",
        "- Web情報の取得やデータ分析などは16K、32Kモデル必須。\n"
      ],
      "metadata": {
        "id": "POntkv5HKvO4"
      }
    },
    {
      "cell_type": "markdown",
      "source": [
        "### STEP 1：準備\n",
        "pipでインストール。  \n",
        "ランタイム環境にインストールされてない場合は以下実行。"
      ],
      "metadata": {
        "id": "zfBd6QoDL__j"
      }
    },
    {
      "cell_type": "code",
      "execution_count": 1,
      "metadata": {
        "id": "WxCmZgOAf6W3"
      },
      "outputs": [],
      "source": [
        "%%capture --no-stderr\n",
        "%pip install pyautogen~=0.1.0"
      ]
    },
    {
      "cell_type": "markdown",
      "source": [
        "### STEP2：設定\n",
        "設定はOAI_CONFIGファイルから読み込むこともできるが、今回は直接設定する。  \n",
        "\"api_key\"にOpenAIのAPIキーを登録しておく。  \n",
        "Azureを利用する場合は本家のサンプルを参照のこと。  "
      ],
      "metadata": {
        "id": "lSF_REciMJQc"
      }
    },
    {
      "cell_type": "code",
      "source": [
        "# APIキー設定スクリプト\n",
        "# 目的：Google Driveからapi.txtファイルを読み込み、必要なAPIキーを環境変数として設定する\n",
        "# 使用するAPI：OpenAI API, SerpAPI, Google Custom Search Engine API\n",
        "\n",
        "# APIの設定\n",
        "from google.colab import drive\n",
        "drive.mount(\"/content/drive\")\n",
        "\n",
        "with open(\"/content/drive/MyDrive/Deep_learning/api.txt\") as file:\n",
        "    #text = file.read()\n",
        "    i=1\n",
        "    key = []\n",
        "    while True:\n",
        "        include_break_line = file.readline() #改行が含まれた行\n",
        "        line = include_break_line.rstrip() #改行を取り除く\n",
        "        if line: #keyの読み込み\n",
        "            #print(f'{i}行目：{line}')\n",
        "            key.append(line)\n",
        "            i += 1\n",
        "        else:\n",
        "            break\n",
        "\n",
        "# APIキーの準備\n",
        "# #ngrok_aceess_token = key[5]\n",
        "#openai_api_key = key[3]\n",
        "# deepl_auth_key = key[1]\n",
        "# serp_api_key = key[7]\n",
        "\n",
        "import os\n",
        "os.environ[\"OPENAI_API_KEY\"] = key[3]\n",
        "os.environ[\"SERPAPI_API_KEY\"] = key[7]\n",
        "os.environ[\"GOOGLE_CSE_ID\"] = key[9]\n",
        "os.environ[\"GOOGLE_API_KEY\"] = key[11]"
      ],
      "metadata": {
        "id": "IsEgY5Z1gK-a",
        "outputId": "dcbf65d7-8807-45c0-bc98-6b794e854bf0",
        "colab": {
          "base_uri": "https://localhost:8080/"
        }
      },
      "execution_count": 2,
      "outputs": [
        {
          "output_type": "stream",
          "name": "stdout",
          "text": [
            "Mounted at /content/drive\n"
          ]
        }
      ]
    },
    {
      "cell_type": "code",
      "source": [
        "import autogen\n",
        "\n",
        "config_list = [\n",
        "    {\n",
        "        \"model\": \"gpt-4o\",\n",
        "        \"api_key\": key[3],\n",
        "        \"api_type\": \"open_ai\",\n",
        "        \"api_base\": \"https://api.openai.com/v1\",\n",
        "        \"api_version\": None,\n",
        "#        \"request_timeout\": 120,\n",
        "#        \"max_retry_period\": 90,\n",
        "#        \"retry_wait_time\": 5,\n",
        "    },\n",
        "    {\n",
        "        \"model\": \"gpt-4o-mini\",\n",
        "        \"api_key\": key[3],\n",
        "        \"api_type\": \"open_ai\",\n",
        "        \"api_base\": \"https://api.openai.com/v1\",\n",
        "        \"api_version\": None,\n",
        "    },\n",
        "]"
      ],
      "metadata": {
        "id": "WpWCIhSmw4Qs",
        "outputId": "03ca00c3-9390-4c50-c8fc-590a81060d32",
        "colab": {
          "base_uri": "https://localhost:8080/"
        }
      },
      "execution_count": 4,
      "outputs": [
        {
          "output_type": "stream",
          "name": "stderr",
          "text": [
            "/usr/local/lib/python3.10/dist-packages/dask/dataframe/__init__.py:42: FutureWarning: \n",
            "Dask dataframe query planning is disabled because dask-expr is not installed.\n",
            "\n",
            "You can install it with `pip install dask[dataframe]` or `conda install dask`.\n",
            "This will raise in a future version.\n",
            "\n",
            "  warnings.warn(msg, FutureWarning)\n"
          ]
        }
      ]
    },
    {
      "cell_type": "markdown",
      "source": [
        "### エージェントの定義\n",
        "今回の例では、以下の４つのエージェントを定義し、1週間分の夕食の献立を相談しながら決めてもらう。  \n",
        "- floor_manager  \n",
        "ユーザーとの対話を担当  \n",
        "- chef  \n",
        "メニューを考案する  \n",
        "- doctor  \n",
        "医学的立場からメニューを修正する  \n",
        "- kitchen_manager  \n",
        "メニューに必要な食材などを調達する\n",
        "  \n",
        "「system_message=」でエージェントの役割を定義する。  \n",
        "  \n",
        "今回はコードの生成と実行はしないが、必要な場合は  \n",
        "「code_execution_config={\"last_n_messages\": 2, \"work_dir\": \"groupchat\"},」  \n",
        "を利用する。  \n",
        "  \n",
        "「groupchat = autogen.GroupChat(agents=[floor_manager, chef, doctor, kitchen_manager], messages=[], max_round=12)」  \n",
        "で、参加させるエージェントと実行ラウンド数を決める。  \n",
        "  \n",
        "人間の介入を受け付ける場合は、以下を変更\n",
        "「human_input_mode=\"TERMINATE\"」→「human_input_mode=\"ALWAYS\"」"
      ],
      "metadata": {
        "id": "K4Tm0KNyhr4P"
      }
    },
    {
      "cell_type": "code",
      "execution_count": 6,
      "metadata": {
        "id": "htUZeihsf6W6"
      },
      "outputs": [],
      "source": [
        "llm_config = {\"config_list\": config_list}\n",
        "floor_manager = autogen.UserProxyAgent(\n",
        "   name=\"floor_manager\",\n",
        "   system_message=\"人間との対話を通じて、ChefやDoctor、Kitchen_Managerと相談しながら調理や食材に関する課題を解決してください。\",\n",
        "#   code_execution_config={\"last_n_messages\": 2, \"work_dir\": \"groupchat\"},\n",
        "   human_input_mode=\"ALWAYS\"\n",
        ")\n",
        "chef = autogen.AssistantAgent(\n",
        "    name=\"chef\",\n",
        "    system_message=\"世界中の料理を知り尽くした料理人です。健康面はdoctorが検討するので、考慮する必要はありません。味についてのみ検討したレシピを考案し、最高の料理を提供します。考案したメニューをdoctorと相談して、健康面を考慮しながら修正してください。メニューが決定したらkitchen_managerに食材リストの提出を依頼してください。\",\n",
        "    llm_config=llm_config,\n",
        ")\n",
        "doctor = autogen.AssistantAgent(\n",
        "    name=\"doctor\",\n",
        "    system_message=\"chefが提案したメニューを医学的な立場で検証し、Chefに修正を依頼してください。\",\n",
        "    llm_config=llm_config,\n",
        ")\n",
        "kitchen_manager = autogen.AssistantAgent(\n",
        "    name=\"kitchen_manager\",\n",
        "    system_message=\"料理にかかる費用や必要な食材や調味料を管理します。chefが考案しメニューから必要な食材を検討し、その調達を指示してください。\",\n",
        "    llm_config=llm_config,\n",
        ")\n",
        "groupchat = autogen.GroupChat(agents=[floor_manager, chef, doctor, kitchen_manager], messages=[], max_round=12)\n",
        "manager = autogen.GroupChatManager(groupchat=groupchat, llm_config=llm_config)"
      ]
    },
    {
      "cell_type": "markdown",
      "metadata": {
        "id": "nY6q-zVJf6W6"
      },
      "source": [
        "### チャット開始\n",
        "議論してもらうテーマを与えると議論が開始される。  \n",
        "  \n",
        "実行時に「chef(to chat_manager):」のように誰宛ての会話なのかが表示される点に注目。"
      ]
    },
    {
      "cell_type": "code",
      "source": [
        "floor_manager.initiate_chat(\n",
        "    manager, message=\n",
        "    \"私は高血圧の持病を持っていますが、食に熱心で、常においしいものを食べたいと考えています。このことを考慮して、1週間分の夕食の献立を考案し、それに必要な食材を調達するためのリストを生成してください。\"\n",
        ")\n",
        "# type exit to terminate the chat"
      ],
      "metadata": {
        "id": "ekiFIF6QhPfI",
        "colab": {
          "base_uri": "https://localhost:8080/"
        },
        "outputId": "8626a514-14dc-4f4d-ea9e-251adb4834c5"
      },
      "execution_count": 7,
      "outputs": [
        {
          "name": "stdout",
          "output_type": "stream",
          "text": [
            "floor_manager (to chat_manager):\n",
            "\n",
            "私は高血圧の持病を持っていますが、食に熱心で、常においしいものを食べたいと考えています。このことを考慮して、1週間分の夕食の献立を考案し、それに必要な食材を調達するためのリストを生成してください。\n",
            "\n",
            "--------------------------------------------------------------------------------\n",
            "chef (to chat_manager):\n",
            "\n",
            "承知しました。高血圧の方向けに味豊かかつ塩分控えめのレシピをご提案します。ただし、最終的なカロリーや食材の選択はわたしの判断ではなく医師の指導に基づいて選んでください。\n",
            "\n",
            "【1週間の夕食メニュー】\n",
            "\n",
            "1日目：\n",
            "主菜：レモンとハーブの香りがする焼き魚\n",
            "副菜：赤キャベツとリンゴのサラダ\n",
            "\n",
            "2日目：\n",
            "主菜：チキンと野菜の炒め物、ショウガとニンニク風味\n",
            "副菜：ほうれん草のごま和え\n",
            "\n",
            "3日目：\n",
            "主菜：ビーフシチュー（ソディウムを控えめに）\n",
            "副菜：グリーンサラダ\n",
            "\n",
            "4日目：\n",
            "主菜：揚げずに焼いたパン粉付き鶏のウィング\n",
            "副菜：ゆでたニンジンとブロッコリーのサラダ\n",
            "\n",
            "5日目：\n",
            "主菜：海鮮パエリア（ソディウム控えめ）\n",
            "副菜：スナップエンドウとレッドピーマンのサラダ\n",
            "\n",
            "6日目：\n",
            "主菜：塩少なめのミソ味の豚肉とキャベツの炒め物\n",
            "副菜：枝豆とアスパラガスのサラダ\n",
            "\n",
            "7日目：\n",
            "主菜：野菜と豆腐のカレー（塩分控えめ）\n",
            "副菜：レンズ豆のサラダ\n",
            "\n",
            "これらの料理を作成するために必要な食材リストを生成します。kitchen_manager、お願いします。\n",
            "\n",
            "--------------------------------------------------------------------------------\n",
            "doctor (to chat_manager):\n",
            "\n",
            "Chefのメニュー提案はほとんど完璧です。しかし、1点だけ修正提案があります。高血圧の方の食事としては、一部の料理で使用されている加工された食品を避ける方が良いでしょう。\n",
            "\n",
            "例えば、5日目の「海鮮パエリア」では、加工された食材が使用されています。これらの食材はしばしば隠れた塩分を含んでおり、高血圧のコントロールに悪影響を及ぼす可能性があります。\n",
            "\n",
            "その代わりに、新鮮な魚やシーフードを使用して家でスパイスを調合するなどして、自然の食材を利用する方が良いと思います。また、他の日にも塩分が含まれているかもしれない調味料や加工食品への配慮が必要です。\n",
            "\n",
            "以上の点を修正し、再度メニュー提案をお願いします。健康への配慮は食事の享受と両立できますので、塩分を控えた美味しいメニューを心掛けてください。\n",
            "\n",
            "--------------------------------------------------------------------------------\n",
            "chef (to chat_manager):\n",
            "\n",
            "医師のアドバイスを受けて、5日目の「海鮮パエリア」のレシピを修正いたします。また加工食品を使用する代わりに新鮮な食材と自然なスパイスを使用することで、よりヘルシーで、味にも深みを出します。\n",
            "\n",
            "【修正後の1週間の夕食メニュー】\n",
            "\n",
            "1日目：\n",
            "主菜：レモンとハーブの香りがする焼き魚\n",
            "副菜：赤キャベツとリンゴのサラダ\n",
            "\n",
            "2日目：\n",
            "主菜：チキンと野菜の炒め物、ショウガとニンニク風味\n",
            "副菜：ほうれん草のごま和え\n",
            "\n",
            "3日目：\n",
            "主菜：ビーフシチュー（ソディウムを控えめに）\n",
            "副菜：グリーンサラダ\n",
            "\n",
            "4日目：\n",
            "主菜：揚げずに焼いたパン粉付き鶏のウィング\n",
            "副菜：ゆでたニンジンとブロッコリーのサラダ\n",
            "\n",
            "5日目：\n",
            "主菜：新鮮な魚とシーフードの自家製スパイス混ぜご飯\n",
            "副菜：スナップエンドウとレッドピーマンのサラダ\n",
            "\n",
            "6日目：\n",
            "主菜：塩少なめのミソ味の豚肉とキャベツの炒め物\n",
            "副菜：枝豆とアスパラガスのサラダ\n",
            "\n",
            "7日目：\n",
            "主菜：野菜と豆腐のカレー（塩分控えめ）\n",
            "副菜：レンズ豆のサラダ\n",
            "\n",
            "この修正されたメニューをもとに、kitchen_managerに食材リストを提出するよう依頼いたします。\n",
            "\n",
            "--------------------------------------------------------------------------------\n",
            "kitchen_manager (to chat_manager):\n",
            "\n",
            "【1週間の食材リスト】\n",
            "\n",
            "- 新鮮な魚（好みの種類で）\n",
            "- チキン（胸肉が理想的です）\n",
            "- 牛肉（赤身の部位が理想的）\n",
            "- 鶏のウィング（皮を取り除きます）\n",
            "- 新鮮なシーフード（エビ、イカ、魚介類など、好みのもの）\n",
            "- 豚肉（ここでも胸肉がよいでしょう）\n",
            "- 豆腐\n",
            "\n",
            "野菜：\n",
            "\n",
            "- 赤キャベツ\n",
            "- リンゴ\n",
            "- 雑な野菜（炒め物に使用します）\n",
            "- フレッシュスピナッチ\n",
            "- ごま\n",
            "- サラダのための混合グリーン\n",
            "- ニンジン\n",
            "- ブロッコリー\n",
            "- スナップエンドウ\n",
            "- レッドピーマン\n",
            "- キャベツ\n",
            "- 枝豆\n",
            "- アスパラガス\n",
            "- カレー用の野菜（玉ねぎ、人参、じゃがいも、好みに合わせて追加素材の調整も可能です）\n",
            "- レンズ豆\n",
            "\n",
            "調味料／スパイス：\n",
            "\n",
            "- レモン\n",
            "- ハーブ（焼き魚に使用します）\n",
            "- ショウガ\n",
            "- ニンニク\n",
            "- パン粉\n",
            "- オリーブオイル\n",
            "- マイルドなカレーパウダー（低塩タイプ）\n",
            "- 自家製スパイス（クローブ、カルダモン、ターメリック、クミン、コリアンダーなど）\n",
            "\n",
            "\n",
            "このリストは一週間のメニューを元に作成されていますが、個々の食材の量はお客様の食事の量や好みによります。ありそうな食材は既に家にあるかもしれませんが、このリストをもとに食材のストックを確認し、必要なものを購入してください。\n",
            "\n",
            "--------------------------------------------------------------------------------\n",
            "Provide feedback to chat_manager. Press enter to skip and use auto-reply, or type 'exit' to end the conversation: \n",
            "\n",
            ">>>>>>>> NO HUMAN INPUT RECEIVED.\n",
            "\n",
            ">>>>>>>> USING AUTO REPLY...\n",
            "floor_manager (to chat_manager):\n",
            "\n",
            "\n",
            "\n",
            "--------------------------------------------------------------------------------\n",
            "Provide feedback to chat_manager. Press enter to skip and use auto-reply, or type 'exit' to end the conversation: \n",
            "\n",
            ">>>>>>>> NO HUMAN INPUT RECEIVED.\n",
            "\n",
            ">>>>>>>> USING AUTO REPLY...\n",
            "floor_manager (to chat_manager):\n",
            "\n",
            "\n",
            "\n",
            "--------------------------------------------------------------------------------\n",
            "Provide feedback to chat_manager. Press enter to skip and use auto-reply, or type 'exit' to end the conversation: 念のため医師にもう一度確認して\n",
            "floor_manager (to chat_manager):\n",
            "\n",
            "念のため医師にもう一度確認して\n",
            "\n",
            "--------------------------------------------------------------------------------\n",
            "doctor (to chat_manager):\n",
            "\n",
            "本当に健康的な1週間のメニューの提案をいただきました。適度なタンパク質を得られるように魚、チキン、牛肉、豚肉などのバランスがよく、ダイエット中でも安心して楽しめます。また、毎日たくさんの新鮮な野菜も取れるので、ビタミンやミネラル、食物繊維もしっかり摂取できます。\n",
            "\n",
            "さらに、豚肉のレシピやシーフードの混ぜご飯、カレーなどでは塩分を控えめにするという配慮も見られます。これらは高血圧予防に効果的です。ただし、レシピによっては使う調味料に含まれる塩分に注意してください。基本的には低塩のものを選ぶ、または適量に調整するようにしましょう。\n",
            "\n",
            "全体的にバランスが良く、塩分も考慮された健康的な食事の提案で大変素晴らしいと思います。このままチェフに進んでいただくことをお勧めします。\n",
            "\n",
            "--------------------------------------------------------------------------------\n",
            "Provide feedback to chat_manager. Press enter to skip and use auto-reply, or type 'exit' to end the conversation: exit\n"
          ]
        }
      ]
    }
  ],
  "metadata": {
    "kernelspec": {
      "display_name": "flaml",
      "language": "python",
      "name": "python3"
    },
    "language_info": {
      "codemirror_mode": {
        "name": "ipython",
        "version": 3
      },
      "file_extension": ".py",
      "mimetype": "text/x-python",
      "name": "python",
      "nbconvert_exporter": "python",
      "pygments_lexer": "ipython3",
      "version": "3.9.17"
    },
    "orig_nbformat": 4,
    "colab": {
      "provenance": [],
      "include_colab_link": true
    }
  },
  "nbformat": 4,
  "nbformat_minor": 0
}