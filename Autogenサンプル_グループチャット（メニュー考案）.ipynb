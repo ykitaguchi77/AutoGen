{
  "cells": [
    {
      "cell_type": "markdown",
      "metadata": {
        "id": "view-in-github",
        "colab_type": "text"
      },
      "source": [
        "<a href=\"https://colab.research.google.com/github/ykitaguchi77/AutoGen/blob/main/Autogen%E3%82%B5%E3%83%B3%E3%83%97%E3%83%AB_%E3%82%B0%E3%83%AB%E3%83%BC%E3%83%97%E3%83%81%E3%83%A3%E3%83%83%E3%83%88%EF%BC%88%E3%83%A1%E3%83%8B%E3%83%A5%E3%83%BC%E8%80%83%E6%A1%88%EF%BC%89.ipynb\" target=\"_parent\"><img src=\"https://colab.research.google.com/assets/colab-badge.svg\" alt=\"Open In Colab\"/></a>"
      ]
    },
    {
      "cell_type": "markdown",
      "source": [
        "# Autogenについて\n",
        "Microsoft Researchから登場したマルチエージェントによるLLMアプリケーションを実現するフレームワーク。役割を設定したエージェントを定義することで、エージェントがお互いに相談しながらタスクを実行できる。インターネットアクセスやコードの実行、ファンクションなども活用しながら高度な操作ができる。\n",
        "\n",
        "- 公式サイト  \n",
        "  https://microsoft.github.io/autogen/  \n",
        "- Github  \n",
        "  https://github.com/microsoft/autogen  \n",
        "- ブログ  \n",
        "  AutoGen: Enabling next-generation large language model applications  \n",
        "  https://www.microsoft.com/en-us/research/blog/autogen-enabling-next-generation-large-language-model-applications/  \n",
        "- arxivペーパー  \n",
        "  AutoGen: Enabling Next-Gen LLM Applications via Multi-Agent Conversation  \n",
        "  https://arxiv.org/abs/2308.08155  "
      ],
      "metadata": {
        "id": "hrtTi-dUIUyL"
      }
    },
    {
      "cell_type": "markdown",
      "source": [
        "## 注意\n",
        "- 実行には、OpenAIのAPIキーが必要。\n",
        "- 複雑な処理や高度な連携にはGPT-4のアクセスが必要。\n",
        "- コードの修正などが繰り返されるケースではAPIアクセスが多発しコストが嵩むので注意。\n",
        "- タスクによっては、エージェント間でコードやソースなどを共有する必要があり、大量の入力が発生するため、16Kや32Kに対応したモデルでないと動作しない（Rate Limitエラーにひっかかる）。\n",
        "- Web情報の取得やデータ分析などは16K、32Kモデル必須。\n"
      ],
      "metadata": {
        "id": "POntkv5HKvO4"
      }
    },
    {
      "cell_type": "markdown",
      "source": [
        "### STEP 1：準備\n",
        "pipでインストール。  \n",
        "ランタイム環境にインストールされてない場合は以下実行。"
      ],
      "metadata": {
        "id": "zfBd6QoDL__j"
      }
    },
    {
      "cell_type": "code",
      "execution_count": 1,
      "metadata": {
        "id": "WxCmZgOAf6W3"
      },
      "outputs": [],
      "source": [
        "%%capture --no-stderr\n",
        "%pip install pyautogen~=0.1.0"
      ]
    },
    {
      "cell_type": "markdown",
      "source": [
        "### STEP2：設定\n",
        "設定はOAI_CONFIGファイルから読み込むこともできるが、今回は直接設定する。  \n",
        "\"api_key\"にOpenAIのAPIキーを登録しておく。  \n",
        "Azureを利用する場合は本家のサンプルを参照のこと。  "
      ],
      "metadata": {
        "id": "lSF_REciMJQc"
      }
    },
    {
      "cell_type": "code",
      "source": [
        "# APIキー設定スクリプト\n",
        "# 目的：Google Driveからapi.txtファイルを読み込み、必要なAPIキーを環境変数として設定する\n",
        "# 使用するAPI：OpenAI API, SerpAPI, Google Custom Search Engine API\n",
        "\n",
        "# APIの設定\n",
        "from google.colab import drive\n",
        "drive.mount(\"/content/drive\")\n",
        "\n",
        "with open(\"/content/drive/MyDrive/Deep_learning/api.txt\") as file:\n",
        "    #text = file.read()\n",
        "    i=1\n",
        "    key = []\n",
        "    while True:\n",
        "        include_break_line = file.readline() #改行が含まれた行\n",
        "        line = include_break_line.rstrip() #改行を取り除く\n",
        "        if line: #keyの読み込み\n",
        "            #print(f'{i}行目：{line}')\n",
        "            key.append(line)\n",
        "            i += 1\n",
        "        else:\n",
        "            break\n",
        "\n",
        "# APIキーの準備\n",
        "# #ngrok_aceess_token = key[5]\n",
        "#openai_api_key = key[3]\n",
        "# deepl_auth_key = key[1]\n",
        "# serp_api_key = key[7]\n",
        "\n",
        "import os\n",
        "os.environ[\"OPENAI_API_KEY\"] = key[3]\n",
        "os.environ[\"SERPAPI_API_KEY\"] = key[7]\n",
        "os.environ[\"GOOGLE_CSE_ID\"] = key[9]\n",
        "os.environ[\"GOOGLE_API_KEY\"] = key[11]"
      ],
      "metadata": {
        "id": "IsEgY5Z1gK-a",
        "outputId": "c55ea831-4940-4882-8fb7-26847d76d345",
        "colab": {
          "base_uri": "https://localhost:8080/"
        }
      },
      "execution_count": 2,
      "outputs": [
        {
          "output_type": "stream",
          "name": "stdout",
          "text": [
            "Mounted at /content/drive\n"
          ]
        }
      ]
    },
    {
      "cell_type": "code",
      "source": [
        "import autogen\n",
        "\n",
        "config_list = [\n",
        "    {\n",
        "        \"model\": \"gpt-4o\",\n",
        "        \"api_key\": key[3],\n",
        "        \"api_type\": \"open_ai\",\n",
        "        \"api_base\": \"https://api.openai.com/v1\",\n",
        "        \"api_version\": None,\n",
        "#        \"request_timeout\": 120,\n",
        "#        \"max_retry_period\": 90,\n",
        "#        \"retry_wait_time\": 5,\n",
        "    },\n",
        "    {\n",
        "        \"model\": \"gpt-4o-mini\",\n",
        "        \"api_key\": key[3],\n",
        "        \"api_type\": \"open_ai\",\n",
        "        \"api_base\": \"https://api.openai.com/v1\",\n",
        "        \"api_version\": None,\n",
        "    },\n",
        "]"
      ],
      "metadata": {
        "id": "WpWCIhSmw4Qs",
        "outputId": "a86fd696-aa9e-4cd6-d0d0-9a2a8072e750",
        "colab": {
          "base_uri": "https://localhost:8080/"
        }
      },
      "execution_count": 3,
      "outputs": [
        {
          "output_type": "stream",
          "name": "stderr",
          "text": [
            "/usr/local/lib/python3.10/dist-packages/dask/dataframe/__init__.py:42: FutureWarning: \n",
            "Dask dataframe query planning is disabled because dask-expr is not installed.\n",
            "\n",
            "You can install it with `pip install dask[dataframe]` or `conda install dask`.\n",
            "This will raise in a future version.\n",
            "\n",
            "  warnings.warn(msg, FutureWarning)\n"
          ]
        }
      ]
    },
    {
      "cell_type": "markdown",
      "source": [
        "### エージェントの定義\n",
        "今回の例では、以下の４つのエージェントを定義し、1週間分の夕食の献立を相談しながら決めてもらう。  \n",
        "- floor_manager  \n",
        "ユーザーとの対話を担当  \n",
        "- chef  \n",
        "メニューを考案する  \n",
        "- doctor  \n",
        "医学的立場からメニューを修正する  \n",
        "- kitchen_manager  \n",
        "メニューに必要な食材などを調達する\n",
        "  \n",
        "「system_message=」でエージェントの役割を定義する。  \n",
        "  \n",
        "今回はコードの生成と実行はしないが、必要な場合は  \n",
        "「code_execution_config={\"last_n_messages\": 2, \"work_dir\": \"groupchat\"},」  \n",
        "を利用する。  \n",
        "  \n",
        "「groupchat = autogen.GroupChat(agents=[floor_manager, chef, doctor, kitchen_manager], messages=[], max_round=12)」  \n",
        "で、参加させるエージェントと実行ラウンド数を決める。  \n",
        "  \n",
        "人間の介入を受け付ける場合は、以下を変更\n",
        "「human_input_mode=\"TERMINATE\"」→「human_input_mode=\"ALWAYS\"」"
      ],
      "metadata": {
        "id": "K4Tm0KNyhr4P"
      }
    },
    {
      "cell_type": "code",
      "execution_count": 14,
      "metadata": {
        "id": "htUZeihsf6W6"
      },
      "outputs": [],
      "source": [
        "llm_config = {\"config_list\": config_list}\n",
        "floor_manager = autogen.UserProxyAgent(\n",
        "   name=\"floor_manager\",\n",
        "   system_message=\"ChefやDoctor、Kitchen_Managerと相談しながら調理や食材に関する課題を解決してください。満足が得られなければ再度フィードバックをかけてください\",\n",
        "   code_execution_config={\"last_n_messages\": 3, \"work_dir\": \"groupchat\"},\n",
        "   human_input_mode=\"TERMINATE\"\n",
        ")\n",
        "chef = autogen.AssistantAgent(\n",
        "    name=\"chef\",\n",
        "    system_message=\"世界中の料理を知り尽くした料理人です。健康面はdoctorが検討するので、考慮する必要はありません。味についてのみ検討したレシピを考案し、最高の料理を提供します。考案したメニューをdoctorと相談して、健康面を考慮しながら修正してください。メニューが決定したらfloor_managerに食材リストの提出を依頼してください。\",\n",
        "    llm_config=llm_config,\n",
        ")\n",
        "doctor = autogen.AssistantAgent(\n",
        "    name=\"doctor\",\n",
        "    system_message=\"chefが提案したメニューを医学的な立場で検証し、floor_managerに修正を依頼してください。\",\n",
        "    llm_config=llm_config,\n",
        ")\n",
        "kitchen_manager = autogen.AssistantAgent(\n",
        "    name=\"kitchen_manager\",\n",
        "    system_message=\"料理にかかる費用や必要な食材や調味料を管理します。chefが考案しメニューから必要な食材を検討し、floor_managerに知らせてください。\",\n",
        "    llm_config=llm_config,\n",
        ")\n",
        "groupchat = autogen.GroupChat(agents=[floor_manager, chef, doctor, kitchen_manager], messages=[], max_round=12)\n",
        "manager = autogen.GroupChatManager(groupchat=groupchat, llm_config=llm_config)"
      ]
    },
    {
      "cell_type": "markdown",
      "metadata": {
        "id": "nY6q-zVJf6W6"
      },
      "source": [
        "### チャット開始\n",
        "議論してもらうテーマを与えると議論が開始される。  \n",
        "  \n",
        "実行時に「chef(to chat_manager):」のように誰宛ての会話なのかが表示される点に注目。"
      ]
    },
    {
      "cell_type": "code",
      "source": [
        "floor_manager.initiate_chat(\n",
        "    manager, message=\n",
        "    \"私は高血圧の持病を持っていますが、食に熱心で、常においしいものを食べたいと考えています。このことを考慮して、1週間分の夕食の献立を考案し、それに必要な食材を調達するためのリストを生成してください。\"\n",
        ")\n",
        "# type exit to terminate the chat"
      ],
      "metadata": {
        "id": "ekiFIF6QhPfI",
        "colab": {
          "base_uri": "https://localhost:8080/"
        },
        "outputId": "5cc07a57-512a-4d33-9316-a43db1489523"
      },
      "execution_count": 15,
      "outputs": [
        {
          "output_type": "stream",
          "name": "stdout",
          "text": [
            "floor_manager (to chat_manager):\n",
            "\n",
            "私は高血圧の持病を持っていますが、食に熱心で、常においしいものを食べたいと考えています。このことを考慮して、1週間分の夕食の献立を考案し、それに必要な食材を調達するためのリストを生成してください。\n",
            "\n",
            "--------------------------------------------------------------------------------\n",
            "chef (to chat_manager):\n",
            "\n",
            "かしこまりました。高血圧のことを考慮せず、まずは味を追求した1週間分の夕食メニューを考案します。全てが完璧に美味しい料理となるよう努めます。後ほど、医師と相談し健康面を考慮した修正を提案していただきます。\n",
            "\n",
            "### 1週間分の夕食メニュー（味を優先）\n",
            "\n",
            "#### 月曜日: ジュースィー・リブアイステーキ\n",
            "- 肉厚なリブアイステーキ\n",
            "- ガーリックバターソース\n",
            "- ローストしたガーリックスキンポテト\n",
            "- クリーミースピナッチ\n",
            "\n",
            "#### 火曜日: トリュフソースの濃厚リゾット\n",
            "- クリーミートリュフリゾット\n",
            "- パルメザンチーズ\n",
            "- グリルドマッシュルーム\n",
            "- フレッシュハーブ\n",
            "\n",
            "#### 水曜日: クラシックフレンチブーフブルギニョン\n",
            "- 赤ワインで煮込んだビーフ\n",
            "- マッシュポテト\n",
            "- ホワイトリーハーブ\n",
            "- 蒸した季節の野菜\n",
            "\n",
            "#### 木曜日: エビとサフランのパエリア\n",
            "- 大ぶりのエビとムール貝\n",
            "- サフラン香るパエリアライス\n",
            "- パプリカとトマト\n",
            "- レモンウェッジ\n",
            "\n",
            "#### 金曜日: 芳醇なバターチキンカレー\n",
            "- クリーミーなバターチキンカレー\n",
            "- 炊きたてのバスマティライス\n",
            "- 香ばしいガーリックナン\n",
            "- 自家製ピクルス\n",
            "\n",
            "#### 土曜日: イタリアン・ボンゴレビアンコ\n",
            "- 白ワイン蒸しのアサリ\n",
            "- ガーリックスパゲッティ\n",
            "- エクストラバージンオリーブオイル\n",
            "- パンチェッタトッピング\n",
            "\n",
            "#### 日曜日: テリヤキサーモンディナー\n",
            "- グリルサーモンの自家製照り焼きソース\n",
            "- バター醤油風味のアスパラと椎茸\n",
            "- フレッシュグリーンサラダ\n",
            "\n",
            "次は、doctorと相談し健康面の修正を行いましょう。それが完了したらfloor_managerに食材リストを提出します。\n",
            "\n",
            "--------------------------------------------------------------------------------\n",
            "doctor (to chat_manager):\n",
            "\n",
            "このメニューは非常に美味しそうですが、高血圧に配慮したいくつかの変更を提案します。脂質、塩分、および加工食品の使用を減らし、果物や野菜、全粒穀物の摂取を増やすことをお勧めします。\n",
            "\n",
            "### 医学的観点からの修正提案\n",
            "\n",
            "#### 月曜日: ジュースィー・リブアイステーキ\n",
            "- ステーキの部分を、脂肪分が少ない鶏胸肉に変更し、グリルで調理します。\n",
            "- ソースはガーリックバターではなく、レモンとハーブを使用した低塩分のマリネに変更。\n",
            "- ポテトとスピナッチは、オリーブオイルで軽くローストし、塩は控えめに。\n",
            "\n",
            "#### 火曜日: トリュフソースの濃厚リゾット\n",
            "- パルメザンチーズの量を削減し、低脂肪ミルクを使用してリゾットを作成。\n",
            "- グリルドマッシュルームは少量のバルサミコ酢で風味を追加。\n",
            "\n",
            "#### 水曜日: クラシックフレンチブーフブルギニョン\n",
            "- ビーフの量を減らし、野菜を多めにして煮込みます。\n",
            "- 赤ワインの代わりにトマトジュースを使用し、塩分を控えます。\n",
            "\n",
            "#### 木曜日: エビとサフランのパエリア\n",
            "- 使用する海鮮の種類を増やし、低脂肪のもも肉を少量摂取。\n",
            "- 塩を控えめにし、レモンで味を調整。\n",
            "\n",
            "#### 金曜日: 芳醇なバターチキンカレー\n",
            "- ココナッツミルクか低脂肪ヨーグルトを代用し、ナンも低脂肪で作成。\n",
            "- ピクルスの代わりに、刻んだフレッシュサラダを添えて。\n",
            "\n",
            "#### 土曜日: イタリアン・ボンゴレビアンコ\n",
            "- パンチェッタを使わずに、エクストラバージンオリーブオイルとハーブで仕上げ。\n",
            "- 塩分を控えめにし、野菜を多めに追加。\n",
            "\n",
            "#### 日曜日: テリヤキサーモンディナー\n",
            "- テリヤキソースの使用量を減らし、オレンジジュースと生姜で風味を追加。\n",
            "- アスパラと椎茸は蒸して、バターの代わりにレモンジュースをかけて提供。\n",
            "\n",
            "これらの変更を基に、floor_managerに必要な食材リストを調整していただくよう依頼してください。\n",
            "\n",
            "--------------------------------------------------------------------------------\n",
            "chef (to chat_manager):\n",
            "\n",
            "ありがとうございます。健康面の配慮を踏まえて、1週間分の夕食メニューを修正しました。以下に、必要な食材リストを生成しましたので、floor_managerに調達を依頼してください。\n",
            "\n",
            "### 修正後の食材リスト\n",
            "\n",
            "#### 月曜日\n",
            "- 鶏胸肉\n",
            "- レモン\n",
            "- ミックスハーブ（ローズマリー、タイムなど）\n",
            "- ジャガイモ\n",
            "- ほうれん草\n",
            "- オリーブオイル\n",
            "\n",
            "#### 火曜日\n",
            "- アーボリオライス\n",
            "- 低脂肪ミルク\n",
            "- トリュフオイル\n",
            "- マッシュルーム\n",
            "- バルサミコ酢\n",
            "- フレッシュハーブ\n",
            "\n",
            "#### 水曜日\n",
            "- 牛肉（赤身少量）\n",
            "- トマトジュース\n",
            "- 人参\n",
            "- 玉ねぎ\n",
            "- セロリ\n",
            "- マッシュポテト用ポテト\n",
            "\n",
            "#### 木曜日\n",
            "- エビ\n",
            "- ムール貝\n",
            "- 鶏もも肉\n",
            "- サフラン\n",
            "- パプリカ\n",
            "- トマト\n",
            "- レモン\n",
            "\n",
            "#### 金曜日\n",
            "- 鶏肉（カレ用）\n",
            "- ココナッツミルクまたは低脂肪ヨーグルト\n",
            "- バスマティライス\n",
            "- 全粒粉ナン\n",
            "- 生野菜（トマト、キュウリ、レタスなど）\n",
            "\n",
            "#### 土曜日\n",
            "- アサリ\n",
            "- スパゲッティ\n",
            "- エクストラバージンオリーブオイル\n",
            "- ニンニク\n",
            "- パセリ\n",
            "- 季節の野菜（例：ブロッコリー、アスパラ）\n",
            "\n",
            "#### 日曜日\n",
            "- サーモンフィレ\n",
            "- オレンジジュース\n",
            "- 生姜\n",
            "- アスパラガス\n",
            "- 椎茸\n",
            "- レモンジュース\n",
            "- グリーンサラダ用野菜\n",
            "\n",
            "このリストを基にfloor_managerに食材を調達してもらいましょう。美味しい食事を心からお楽しみください。\n",
            "\n",
            "--------------------------------------------------------------------------------\n",
            "kitchen_manager (to chat_manager):\n",
            "\n",
            "こちらが修正後の健康に配慮された献立に基づく食材リストです。気を付けて食材を選び、調理をお楽しみください。必要事項があれば再度ご相談ください。\n",
            "\n",
            "--------------------------------------------------------------------------------\n",
            "\n",
            ">>>>>>>> USING AUTO REPLY...\n",
            "floor_manager (to chat_manager):\n",
            "\n",
            "\n",
            "\n",
            "--------------------------------------------------------------------------------\n",
            "\n",
            ">>>>>>>> USING AUTO REPLY...\n",
            "floor_manager (to chat_manager):\n",
            "\n",
            "\n",
            "\n",
            "--------------------------------------------------------------------------------\n",
            "\n",
            ">>>>>>>> USING AUTO REPLY...\n",
            "floor_manager (to chat_manager):\n",
            "\n",
            "\n",
            "\n",
            "--------------------------------------------------------------------------------\n",
            "\n",
            ">>>>>>>> USING AUTO REPLY...\n",
            "floor_manager (to chat_manager):\n",
            "\n",
            "\n",
            "\n",
            "--------------------------------------------------------------------------------\n",
            "\n",
            ">>>>>>>> USING AUTO REPLY...\n",
            "floor_manager (to chat_manager):\n",
            "\n",
            "\n",
            "\n",
            "--------------------------------------------------------------------------------\n",
            "\n",
            ">>>>>>>> USING AUTO REPLY...\n",
            "floor_manager (to chat_manager):\n",
            "\n",
            "\n",
            "\n",
            "--------------------------------------------------------------------------------\n",
            "\n",
            ">>>>>>>> USING AUTO REPLY...\n",
            "floor_manager (to chat_manager):\n",
            "\n",
            "\n",
            "\n",
            "--------------------------------------------------------------------------------\n"
          ]
        }
      ]
    }
  ],
  "metadata": {
    "kernelspec": {
      "display_name": "flaml",
      "language": "python",
      "name": "python3"
    },
    "language_info": {
      "codemirror_mode": {
        "name": "ipython",
        "version": 3
      },
      "file_extension": ".py",
      "mimetype": "text/x-python",
      "name": "python",
      "nbconvert_exporter": "python",
      "pygments_lexer": "ipython3",
      "version": "3.9.17"
    },
    "orig_nbformat": 4,
    "colab": {
      "provenance": [],
      "include_colab_link": true
    }
  },
  "nbformat": 4,
  "nbformat_minor": 0
}