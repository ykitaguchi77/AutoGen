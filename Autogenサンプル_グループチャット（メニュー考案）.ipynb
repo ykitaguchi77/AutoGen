{
  "cells": [
    {
      "cell_type": "markdown",
      "metadata": {
        "id": "view-in-github",
        "colab_type": "text"
      },
      "source": [
        "<a href=\"https://colab.research.google.com/github/ykitaguchi77/AutoGen/blob/main/Autogen%E3%82%B5%E3%83%B3%E3%83%97%E3%83%AB_%E3%82%B0%E3%83%AB%E3%83%BC%E3%83%97%E3%83%81%E3%83%A3%E3%83%83%E3%83%88%EF%BC%88%E3%83%A1%E3%83%8B%E3%83%A5%E3%83%BC%E8%80%83%E6%A1%88%EF%BC%89.ipynb\" target=\"_parent\"><img src=\"https://colab.research.google.com/assets/colab-badge.svg\" alt=\"Open In Colab\"/></a>"
      ]
    },
    {
      "cell_type": "markdown",
      "source": [
        "# Autogenについて\n",
        "Microsoft Researchから登場したマルチエージェントによるLLMアプリケーションを実現するフレームワーク。役割を設定したエージェントを定義することで、エージェントがお互いに相談しながらタスクを実行できる。インターネットアクセスやコードの実行、ファンクションなども活用しながら高度な操作ができる。\n",
        "\n",
        "- 公式サイト  \n",
        "  https://microsoft.github.io/autogen/  \n",
        "- Github  \n",
        "  https://github.com/microsoft/autogen  \n",
        "- ブログ  \n",
        "  AutoGen: Enabling next-generation large language model applications  \n",
        "  https://www.microsoft.com/en-us/research/blog/autogen-enabling-next-generation-large-language-model-applications/  \n",
        "- arxivペーパー  \n",
        "  AutoGen: Enabling Next-Gen LLM Applications via Multi-Agent Conversation  \n",
        "  https://arxiv.org/abs/2308.08155  "
      ],
      "metadata": {
        "id": "hrtTi-dUIUyL"
      }
    },
    {
      "cell_type": "markdown",
      "source": [
        "## 注意\n",
        "- 実行には、OpenAIのAPIキーが必要。\n",
        "- 複雑な処理や高度な連携にはGPT-4のアクセスが必要。\n",
        "- コードの修正などが繰り返されるケースではAPIアクセスが多発しコストが嵩むので注意。\n",
        "- タスクによっては、エージェント間でコードやソースなどを共有する必要があり、大量の入力が発生するため、16Kや32Kに対応したモデルでないと動作しない（Rate Limitエラーにひっかかる）。\n",
        "- Web情報の取得やデータ分析などは16K、32Kモデル必須。\n"
      ],
      "metadata": {
        "id": "POntkv5HKvO4"
      }
    },
    {
      "cell_type": "markdown",
      "source": [
        "### STEP 1：準備\n",
        "pipでインストール。  \n",
        "ランタイム環境にインストールされてない場合は以下実行。"
      ],
      "metadata": {
        "id": "zfBd6QoDL__j"
      }
    },
    {
      "cell_type": "code",
      "execution_count": null,
      "metadata": {
        "id": "WxCmZgOAf6W3"
      },
      "outputs": [],
      "source": [
        "%%capture --no-stderr\n",
        "%pip install pyautogen~=0.1.0"
      ]
    },
    {
      "cell_type": "markdown",
      "source": [
        "### STEP2：設定\n",
        "設定はOAI_CONFIGファイルから読み込むこともできるが、今回は直接設定する。  \n",
        "\"api_key\"にOpenAIのAPIキーを登録しておく。  \n",
        "Azureを利用する場合は本家のサンプルを参照のこと。  "
      ],
      "metadata": {
        "id": "lSF_REciMJQc"
      }
    },
    {
      "cell_type": "code",
      "source": [
        "import autogen\n",
        "\n",
        "config_list = [\n",
        "    {\n",
        "        \"model\": \"gpt-4\",\n",
        "        \"api_key\": \"OpenAI_APIKEYに置き換え\",\n",
        "        \"api_type\": \"open_ai\",\n",
        "        \"api_base\": \"https://api.openai.com/v1\",\n",
        "        \"api_version\": None,\n",
        "#        \"request_timeout\": 120,\n",
        "#        \"max_retry_period\": 90,\n",
        "#        \"retry_wait_time\": 5,\n",
        "    },\n",
        "   {\n",
        "        \"model\": \"gpt-3.5\",\n",
        "        \"api_key\": \"OpenAI_APIKEYに置き換え\",\n",
        "        \"api_type\": \"open_ai\",\n",
        "        \"api_base\": \"https://api.openai.com/v1\",\n",
        "        \"api_version\": None,\n",
        "    },\n",
        "    {\n",
        "        \"model\": \"gpt-3.5-turbo-16k-0613\",\n",
        "        \"api_key\": \"OpenAI_APIKEYに置き換え\",\n",
        "        \"api_type\": \"open_ai\",\n",
        "        \"api_base\": \"https://api.openai.com/v1\",\n",
        "        \"api_version\": None,\n",
        "    },\n",
        "]"
      ],
      "metadata": {
        "id": "WpWCIhSmw4Qs"
      },
      "execution_count": null,
      "outputs": []
    },
    {
      "cell_type": "markdown",
      "source": [
        "### エージェントの定義\n",
        "今回の例では、以下の４つのエージェントを定義し、1週間分の夕食の献立を相談しながら決めてもらう。  \n",
        "- floor_manager  \n",
        "ユーザーとの対話を担当  \n",
        "- chef  \n",
        "メニューを考案する  \n",
        "- doctor  \n",
        "医学的立場からメニューを修正する  \n",
        "- kitchen_manager  \n",
        "メニューに必要な食材などを調達する\n",
        "  \n",
        "「system_message=」でエージェントの役割を定義する。  \n",
        "  \n",
        "今回はコードの生成と実行はしないが、必要な場合は  \n",
        "「code_execution_config={\"last_n_messages\": 2, \"work_dir\": \"groupchat\"},」  \n",
        "を利用する。  \n",
        "  \n",
        "「groupchat = autogen.GroupChat(agents=[floor_manager, chef, doctor, kitchen_manager], messages=[], max_round=12)」  \n",
        "で、参加させるエージェントと実行ラウンド数を決める。  \n",
        "  \n",
        "人間の介入を受け付ける場合は、以下を変更\n",
        "「human_input_mode=\"TERMINATE\"」→「human_input_mode=\"ALWAYS\"」"
      ],
      "metadata": {
        "id": "K4Tm0KNyhr4P"
      }
    },
    {
      "cell_type": "code",
      "execution_count": null,
      "metadata": {
        "id": "htUZeihsf6W6"
      },
      "outputs": [],
      "source": [
        "llm_config = {\"config_list\": config_list}\n",
        "floor_manager = autogen.UserProxyAgent(\n",
        "   name=\"floor_manager\",\n",
        "   system_message=\"人間との対話を通じて、ChefやDoctor、Kitchen_Managerと相談しながら調理や食材に関する課題を解決してください。\",\n",
        "#   code_execution_config={\"last_n_messages\": 2, \"work_dir\": \"groupchat\"},\n",
        "   human_input_mode=\"ALWAYS\"\n",
        ")\n",
        "chef = autogen.AssistantAgent(\n",
        "    name=\"chef\",\n",
        "    system_message=\"世界中の料理を知り尽くした料理人です。健康面はdoctorが検討するので、考慮する必要はありません。味についてのみ検討したレシピを考案し、最高の料理を提供します。考案したメニューをdoctorと相談して、健康面を考慮しながら修正してください。メニューが決定したらkitchen_managerに食材リストの提出を依頼してください。\",\n",
        "    llm_config=llm_config,\n",
        ")\n",
        "doctor = autogen.AssistantAgent(\n",
        "    name=\"doctor\",\n",
        "    system_message=\"chefが提案したメニューを医学的な立場で検証し、Chefに修正を依頼してください。\",\n",
        "    llm_config=llm_config,\n",
        ")\n",
        "kitchen_manager = autogen.AssistantAgent(\n",
        "    name=\"kitchen_manager\",\n",
        "    system_message=\"料理にかかる費用や必要な食材や調味料を管理します。chefが考案しメニューから必要な食材を検討し、その調達を指示してください。\",\n",
        "    llm_config=llm_config,\n",
        ")\n",
        "groupchat = autogen.GroupChat(agents=[floor_manager, chef, doctor, kitchen_manager], messages=[], max_round=12)\n",
        "manager = autogen.GroupChatManager(groupchat=groupchat, llm_config=llm_config)"
      ]
    },
    {
      "cell_type": "markdown",
      "metadata": {
        "id": "nY6q-zVJf6W6"
      },
      "source": [
        "### チャット開始\n",
        "議論してもらうテーマを与えると議論が開始される。  \n",
        "  \n",
        "実行時に「chef(to chat_manager):」のように誰宛ての会話なのかが表示される点に注目。"
      ]
    },
    {
      "cell_type": "code",
      "source": [
        "floor_manager.initiate_chat(\n",
        "    manager, message=\n",
        "    \"私は高血圧の持病を持っていますが、食に熱心で、常においしいものを食べたいと考えています。このことを考慮して、1週間分の夕食の献立を考案し、それに必要な食材を調達するためのリストを生成してください。\"\n",
        ")\n",
        "# type exit to terminate the chat"
      ],
      "metadata": {
        "id": "ekiFIF6QhPfI",
        "colab": {
          "base_uri": "https://localhost:8080/"
        },
        "outputId": "69ca8445-2e09-44e9-cfbf-a93b9771e412"
      },
      "execution_count": null,
      "outputs": [
        {
          "name": "stdout",
          "output_type": "stream",
          "text": [
            "floor_manager (to chat_manager):\n",
            "\n",
            "私は高血圧の持病を持っていますが、食に熱心で、常においしいものを食べたいと考えています。このことを考慮して、1週間分の夕食の献立を考案し、それに必要な食材を調達するためのリストを生成してください。\n",
            "\n",
            "--------------------------------------------------------------------------------\n",
            "chef (to chat_manager):\n",
            "\n",
            "分かりました。料理人として高血圧に配慮した美味しい献立を提案しましょう。ただし、最終的な判断はdoctorに委ねます。\n",
            "\n",
            "1週間の献立：\n",
            "\n",
            "1. 日曜日: トマトとバジルのパスタ、ガーリックトースト\n",
            "2. 月曜日: 鶏胸肉のグリル、ブロッコリーとチーズのサラダ\n",
            "3. 火曜日: 鮭と季節の野菜の刺身、ご飯\n",
            "4. 水曜日: アボカドとトマトのサラダ、全粒粉パン\n",
            "5. 木曜日: ひじきと豆腐の炒め物、ご飯\n",
            "6. 金曜日: 焼き魚、小松菜の炒めもの、ご飯\n",
            "7. 土曜日: 野菜たっぷりのミネストローネ、バゲット\n",
            "\n",
            "これらの食事は少ない塩分でも美味しく楽しめるメニューを心がけています。 salt以外のspiceを使っても充分に美味しさを引き立てます。\n",
            "\n",
            "Doctor、あなたの意見を伺いたいです。このメニューは高血圧のある方に適していますか？修正が必要な箇所があれば教えてください。\n",
            "\n",
            "--------------------------------------------------------------------------------\n",
            "doctor (to chat_manager):\n",
            "\n",
            "Chefさん、高血圧の方に対する配慮を考えてのメニュー、ありがとうございます。\n",
            "\n",
            "私の提案は次の通りです：\n",
            "\n",
            "1. 日曜日: トマトとバジルのパスタは良いチョイスですが、ガーリックトーストではなく、オリーブオイルを軽く塗った全粒粉パンをおすすめします。\n",
            "2. 月曜日: 鶏胸肉のグリルとブロッコリーのサラダは非常に良いですが、チーズは塩分が高めなので避けて、ドレッシングはレモン汁とオリーブオイルのシンプルなものにしましょう。\n",
            "3. 火曜日: 鮭と季節の野菜の刺身は素晴らしいと思いますが、ご飯の代わりに雑穀米を推奨します。\n",
            "4. 水曜日: アボカドとトマトのサラダ、そして全粒粉パンはそのままで良いと思います。\n",
            "5. 木曜日: ひじきと豆腐の炒め物は良いですが、砂糖を加えずに調理すること、またはご飯の代わりに雑穀米を揃えてみてください。\n",
            "6. 金曜日: 焼き魚は良いですが、塩分を控えるために小松菜はオリーブオイルとレモンを使って軽い塩味で炒めてみてください。そして、ご飯の代わりに雑穀米を。\n",
            "7. 土曜日: 野菜たっぷりのミネストローネは良い選択ですが、バゲットの代わりに全粒粉のパンをお勧めします。\n",
            "\n",
            "全体的に、既存のメニューは素晴らしいですが、高血圧の方に適した軽微な修正が必要でした。塩分を控えて、出来るだけ全粒粉のパンや雑穀米など高食物繊維の食材を取るようにすると良いでしょう。\n",
            "\n",
            "--------------------------------------------------------------------------------\n",
            "kitchen_manager (to chat_manager):\n",
            "\n",
            "ありがとうございますdoctor。それに基づいて、次のように修正した献立と食材リストを提案します。\n",
            "\n",
            "修正後の1週間の献立：\n",
            "\n",
            "1. 日曜日: トマトとバジルのパスタ、オリーブオイルを軽く塗った全粒粉パン\n",
            "2. 月曜日: 鶏胸肉のグリル、ブロッコリーとレモンとオリーブオイルのドレッシングのサラダ\n",
            "3. 火曜日: 鮭と季節の野菜の刺身、雑穀米\n",
            "4. 水曜日: アボカドとトマトのサラダ、全粒粉パン\n",
            "5. 木曜日: 砂糖を加えずに調理したひじきと豆腐の炒め物、雑穀米\n",
            "6. 金曜日: 焼き魚、オリーブオイルとレモンで炒めた小松菜、雑穀米\n",
            "7. 土曜日: 野菜たっぷりのミネストローネ、全粒粉パン\n",
            "\n",
            "必要な食材と調味料：  \n",
            "- トマト  \n",
            "- バジル  \n",
            "- パスタ  \n",
            "- オリーブオイル  \n",
            "- 全粒粉パン  \n",
            "- 鶏胸肉  \n",
            "- ブロッコリー  \n",
            "- レモン  \n",
            "- 鮭  \n",
            "- 季節の野菜（刺身用）  \n",
            "- 雑穀米  \n",
            "- アボカド  \n",
            "- ひじき   \n",
            "- 豆腐  \n",
            "- 焼き魚  \n",
            "- 小松菜  \n",
            "- たくさんの野菜（ミネストローネ用）  \n",
            "- スープストック（塩分控えめ）  \n",
            "\n",
            "これらすべてを購入してください。そして料理中はsaltと砂糖をなるべく控えるようにしてください。\n",
            "\n",
            "--------------------------------------------------------------------------------\n",
            "Provide feedback to chat_manager. Press enter to skip and use auto-reply, or type 'exit' to end the conversation: terminate\n",
            "floor_manager (to chat_manager):\n",
            "\n",
            "terminate\n",
            "\n",
            "--------------------------------------------------------------------------------\n",
            "Provide feedback to chat_manager. Press enter to skip and use auto-reply, or type 'exit' to end the conversation: exit\n"
          ]
        }
      ]
    }
  ],
  "metadata": {
    "kernelspec": {
      "display_name": "flaml",
      "language": "python",
      "name": "python3"
    },
    "language_info": {
      "codemirror_mode": {
        "name": "ipython",
        "version": 3
      },
      "file_extension": ".py",
      "mimetype": "text/x-python",
      "name": "python",
      "nbconvert_exporter": "python",
      "pygments_lexer": "ipython3",
      "version": "3.9.17"
    },
    "orig_nbformat": 4,
    "colab": {
      "provenance": [],
      "include_colab_link": true
    }
  },
  "nbformat": 4,
  "nbformat_minor": 0
}